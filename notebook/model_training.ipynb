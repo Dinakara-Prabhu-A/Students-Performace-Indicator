{
 "cells": [
  {
   "cell_type": "code",
   "execution_count": 25,
   "metadata": {},
   "outputs": [],
   "source": [
    "# basic import\n",
    "import pandas as pd\n",
    "import numpy as np\n",
    "import seaborn as sns\n",
    "import matplotlib.pyplot as plt\n",
    "%matplotlib inline\n",
    "\n",
    "# Modelling\n",
    "from sklearn.model_selection import train_test_split, RandomizedSearchCV\n",
    "from sklearn.linear_model import LinearRegression, Ridge, Lasso\n",
    "from sklearn.neighbors import KNeighborsRegressor\n",
    "from sklearn.naive_bayes import GaussianNB\n",
    "from sklearn.tree import DecisionTreeRegressor\n",
    "from sklearn.svm import SVR\n",
    "from sklearn.ensemble import RandomForestRegressor, GradientBoostingRegressor, AdaBoostRegressor\n",
    "# from catboost import CatBoostRegressor\n",
    "from xgboost import XGBRegressor  \n",
    "from sklearn.metrics import mean_squared_error, r2_score\n",
    "import warnings"
   ]
  },
  {
   "cell_type": "code",
   "execution_count": 46,
   "metadata": {},
   "outputs": [],
   "source": [
    "df = pd.read_csv('data/stud.csv')"
   ]
  },
  {
   "cell_type": "code",
   "execution_count": 47,
   "metadata": {},
   "outputs": [
    {
     "data": {
      "text/html": [
       "<div>\n",
       "<style scoped>\n",
       "    .dataframe tbody tr th:only-of-type {\n",
       "        vertical-align: middle;\n",
       "    }\n",
       "\n",
       "    .dataframe tbody tr th {\n",
       "        vertical-align: top;\n",
       "    }\n",
       "\n",
       "    .dataframe thead th {\n",
       "        text-align: right;\n",
       "    }\n",
       "</style>\n",
       "<table border=\"1\" class=\"dataframe\">\n",
       "  <thead>\n",
       "    <tr style=\"text-align: right;\">\n",
       "      <th></th>\n",
       "      <th>gender</th>\n",
       "      <th>race_ethnicity</th>\n",
       "      <th>parental_level_of_education</th>\n",
       "      <th>lunch</th>\n",
       "      <th>test_preparation_course</th>\n",
       "      <th>math_score</th>\n",
       "      <th>reading_score</th>\n",
       "      <th>writing_score</th>\n",
       "    </tr>\n",
       "  </thead>\n",
       "  <tbody>\n",
       "    <tr>\n",
       "      <th>0</th>\n",
       "      <td>female</td>\n",
       "      <td>group B</td>\n",
       "      <td>bachelor's degree</td>\n",
       "      <td>standard</td>\n",
       "      <td>none</td>\n",
       "      <td>72</td>\n",
       "      <td>72</td>\n",
       "      <td>74</td>\n",
       "    </tr>\n",
       "    <tr>\n",
       "      <th>1</th>\n",
       "      <td>female</td>\n",
       "      <td>group C</td>\n",
       "      <td>some college</td>\n",
       "      <td>standard</td>\n",
       "      <td>completed</td>\n",
       "      <td>69</td>\n",
       "      <td>90</td>\n",
       "      <td>88</td>\n",
       "    </tr>\n",
       "    <tr>\n",
       "      <th>2</th>\n",
       "      <td>female</td>\n",
       "      <td>group B</td>\n",
       "      <td>master's degree</td>\n",
       "      <td>standard</td>\n",
       "      <td>none</td>\n",
       "      <td>90</td>\n",
       "      <td>95</td>\n",
       "      <td>93</td>\n",
       "    </tr>\n",
       "    <tr>\n",
       "      <th>3</th>\n",
       "      <td>male</td>\n",
       "      <td>group A</td>\n",
       "      <td>associate's degree</td>\n",
       "      <td>free/reduced</td>\n",
       "      <td>none</td>\n",
       "      <td>47</td>\n",
       "      <td>57</td>\n",
       "      <td>44</td>\n",
       "    </tr>\n",
       "    <tr>\n",
       "      <th>4</th>\n",
       "      <td>male</td>\n",
       "      <td>group C</td>\n",
       "      <td>some college</td>\n",
       "      <td>standard</td>\n",
       "      <td>none</td>\n",
       "      <td>76</td>\n",
       "      <td>78</td>\n",
       "      <td>75</td>\n",
       "    </tr>\n",
       "  </tbody>\n",
       "</table>\n",
       "</div>"
      ],
      "text/plain": [
       "   gender race_ethnicity  ... reading_score writing_score\n",
       "0  female        group B  ...            72            74\n",
       "1  female        group C  ...            90            88\n",
       "2  female        group B  ...            95            93\n",
       "3    male        group A  ...            57            44\n",
       "4    male        group C  ...            78            75\n",
       "\n",
       "[5 rows x 8 columns]"
      ]
     },
     "execution_count": 47,
     "metadata": {},
     "output_type": "execute_result"
    }
   ],
   "source": [
    "df.head()"
   ]
  },
  {
   "cell_type": "code",
   "execution_count": 19,
   "metadata": {},
   "outputs": [],
   "source": [
    "X = df.drop(\"math_score\",axis =1)\n",
    "y = df[\"math_score\"]"
   ]
  },
  {
   "cell_type": "code",
   "execution_count": 13,
   "metadata": {},
   "outputs": [
    {
     "name": "stdout",
     "output_type": "stream",
     "text": [
      "categorices in gender varibale:  ['female' 'male']\n",
      "categorices in 'race_ethnicity varibale: ',  ['group B' 'group C' 'group A' 'group D' 'group E']\n",
      "categorices in 'parental level of education varibale: ',  [\"bachelor's degree\" 'some college' \"master's degree\" \"associate's degree\"\n",
      " 'high school' 'some high school']\n",
      "categorices in 'lunch varibale: ',  ['standard' 'free/reduced']\n",
      "categorices in 'test preparation course varibale: ',  ['none' 'completed']\n"
     ]
    }
   ],
   "source": [
    "print(\"categorices in gender varibale: \", end =\" \")\n",
    "print(df['gender'].unique())\n",
    "print(\"categorices in 'race_ethnicity varibale: ', \", end =\" \")\n",
    "print(df['race_ethnicity'].unique())\n",
    "print(\"categorices in 'parental level of education varibale: ', \", end =\" \")\n",
    "print(df['parental_level_of_education'].unique())\n",
    "print(\"categorices in 'lunch varibale: ', \", end =\" \")\n",
    "print(df['lunch'].unique())\n",
    "print(\"categorices in 'test preparation course varibale: ', \", end =\" \")\n",
    "print(df['test_preparation_course'].unique())"
   ]
  },
  {
   "cell_type": "code",
   "execution_count": 14,
   "metadata": {},
   "outputs": [],
   "source": [
    "# create a column transformer with 3 types of transformers\n",
    "\n",
    "num_features = X.select_dtypes(exclude='object').columns\n",
    "cat_features = X.select_dtypes(include='object').columns"
   ]
  },
  {
   "cell_type": "code",
   "execution_count": 15,
   "metadata": {},
   "outputs": [],
   "source": [
    "from sklearn.preprocessing import OneHotEncoder,StandardScaler\n",
    "from sklearn.compose import ColumnTransformer\n",
    "\n",
    "numeric_transformers = StandardScaler()\n",
    "oh_transformers =OneHotEncoder()\n",
    "preprocessor = ColumnTransformer(\n",
    "    [\n",
    "        (\"OneHotEncoder\",oh_transformers,cat_features),\n",
    "        ('StandardScaler',numeric_transformers,num_features)\n",
    "    ]\n",
    ")\n"
   ]
  },
  {
   "cell_type": "code",
   "execution_count": 20,
   "metadata": {},
   "outputs": [],
   "source": [
    "X = preprocessor.fit_transform(X)"
   ]
  },
  {
   "cell_type": "code",
   "execution_count": 22,
   "metadata": {},
   "outputs": [
    {
     "data": {
      "text/plain": [
       "(1000, 19)"
      ]
     },
     "execution_count": 22,
     "metadata": {},
     "output_type": "execute_result"
    }
   ],
   "source": [
    "X.shape"
   ]
  },
  {
   "cell_type": "code",
   "execution_count": 23,
   "metadata": {},
   "outputs": [
    {
     "data": {
      "text/plain": [
       "((800, 19), (200, 19), (800,), (200,))"
      ]
     },
     "execution_count": 23,
     "metadata": {},
     "output_type": "execute_result"
    }
   ],
   "source": [
    "# separate dataset into train and test sets\n",
    "\n",
    "X_train, X_test,y_train,y_test = train_test_split(X,y,test_size=0.2,random_state=42)\n",
    "X_train.shape,X_test.shape,y_train.shape,y_test.shape"
   ]
  },
  {
   "cell_type": "markdown",
   "metadata": {},
   "source": [
    "create an evaluate function to give all metrics after model training"
   ]
  },
  {
   "cell_type": "code",
   "execution_count": 24,
   "metadata": {},
   "outputs": [],
   "source": [
    "def evaluate_model(true,predict):\n",
    "    mae = mean_squared_error(true,predict)\n",
    "    r2 = r2_score(true,predict)\n",
    "    return mae,r2\n"
   ]
  },
  {
   "cell_type": "code",
   "execution_count": 31,
   "metadata": {},
   "outputs": [
    {
     "name": "stdout",
     "output_type": "stream",
     "text": [
      "Linear Regression\n",
      "Model performance for Training set\n",
      "- Mean Absolute Error : 28.3469\n",
      "- R2 Score : 0.8743\n",
      "\n",
      "--------------------\n",
      "Model performance for Test set\n",
      "- Mean Absolute Error : 29.1774\n",
      "- R2 Score : 0.8801\n",
      "\n",
      "--------------------\n",
      "Lasso\n",
      "Model performance for Training set\n",
      "- Mean Absolute Error : 43.4784\n",
      "- R2 Score : 0.8071\n",
      "\n",
      "--------------------\n",
      "Model performance for Test set\n",
      "- Mean Absolute Error : 42.5064\n",
      "- R2 Score : 0.8253\n",
      "\n",
      "--------------------\n",
      "Ridge\n",
      "Model performance for Training set\n",
      "- Mean Absolute Error : 28.3378\n",
      "- R2 Score : 0.8743\n",
      "\n",
      "--------------------\n",
      "Model performance for Test set\n",
      "- Mean Absolute Error : 29.0563\n",
      "- R2 Score : 0.8806\n",
      "\n",
      "--------------------\n",
      "Naive Bayes\n",
      "Model performance for Training set\n",
      "- Mean Absolute Error : 392.5300\n",
      "- R2 Score : -0.7411\n",
      "\n",
      "--------------------\n",
      "Model performance for Test set\n",
      "- Mean Absolute Error : 434.7250\n",
      "- R2 Score : -0.7865\n",
      "\n",
      "--------------------\n",
      "KNeighbors Regressor\n",
      "Model performance for Training set\n",
      "- Mean Absolute Error : 32.6859\n",
      "- R2 Score : 0.8550\n",
      "\n",
      "--------------------\n",
      "Model performance for Test set\n",
      "- Mean Absolute Error : 52.6388\n",
      "- R2 Score : 0.7837\n",
      "\n",
      "--------------------\n",
      "Decision Tree Regressor\n",
      "Model performance for Training set\n",
      "- Mean Absolute Error : 0.0781\n",
      "- R2 Score : 0.9997\n",
      "\n",
      "--------------------\n",
      "Model performance for Test set\n",
      "- Mean Absolute Error : 57.0200\n",
      "- R2 Score : 0.7657\n",
      "\n",
      "--------------------\n",
      "Support Vector Regressor\n",
      "Model performance for Training set\n",
      "- Mean Absolute Error : 43.2570\n",
      "- R2 Score : 0.8081\n",
      "\n",
      "--------------------\n",
      "Model performance for Test set\n",
      "- Mean Absolute Error : 66.0420\n",
      "- R2 Score : 0.7286\n",
      "\n",
      "--------------------\n",
      "Random Forest Regressor\n",
      "Model performance for Training set\n",
      "- Mean Absolute Error : 5.3396\n",
      "- R2 Score : 0.9763\n",
      "\n",
      "--------------------\n",
      "Model performance for Test set\n",
      "- Mean Absolute Error : 35.8184\n",
      "- R2 Score : 0.8528\n",
      "\n",
      "--------------------\n",
      "Gradient Boosting Regressor\n",
      "Model performance for Training set\n",
      "- Mean Absolute Error : 21.4086\n",
      "- R2 Score : 0.9050\n",
      "\n",
      "--------------------\n",
      "Model performance for Test set\n",
      "- Mean Absolute Error : 31.0916\n",
      "- R2 Score : 0.8722\n",
      "\n",
      "--------------------\n",
      "AdaBoost Regressor\n",
      "Model performance for Training set\n",
      "- Mean Absolute Error : 34.7359\n",
      "- R2 Score : 0.8459\n",
      "\n",
      "--------------------\n",
      "Model performance for Test set\n",
      "- Mean Absolute Error : 36.5189\n",
      "- R2 Score : 0.8499\n",
      "\n",
      "--------------------\n",
      "XGBoost Regressor\n",
      "Model performance for Training set\n",
      "- Mean Absolute Error : 1.0146\n",
      "- R2 Score : 0.9955\n",
      "\n",
      "--------------------\n",
      "Model performance for Test set\n",
      "- Mean Absolute Error : 41.9037\n",
      "- R2 Score : 0.8278\n",
      "\n",
      "--------------------\n"
     ]
    }
   ],
   "source": [
    "models = {\n",
    "    \"Linear Regression\" : LinearRegression(),\n",
    "    \"Lasso\": Lasso(),\n",
    "    \"Ridge\": Ridge(),\n",
    "    \"Naive Bayes\" :GaussianNB(),\n",
    "    \"KNeighbors Regressor\": KNeighborsRegressor(),\n",
    "    \"Decision Tree Regressor\": DecisionTreeRegressor(),\n",
    "    \"Support Vector Regressor\": SVR(),\n",
    "    \"Random Forest Regressor\": RandomForestRegressor(),\n",
    "    \"Gradient Boosting Regressor\": GradientBoostingRegressor(),\n",
    "    \"AdaBoost Regressor\": AdaBoostRegressor(),\n",
    "    # \"CatBoostRegressor\": CatBoostRegressor(),\n",
    "    \"XGBoost Regressor\": XGBRegressor()\n",
    "}\n",
    "model_list =[]\n",
    "r2_list = []\n",
    "for i in range(len(list(models))):\n",
    "    model = list(models.values())[i]\n",
    "    model.fit(X_train, y_train)\n",
    "\n",
    "    # make prediction\n",
    "    y_train_pred = model.predict(X_train)\n",
    "    y_test_pred = model.predict(X_test)\n",
    "\n",
    "    # evaluate model\n",
    "    mae_train, r2_train = evaluate_model(y_train, y_train_pred)\n",
    "    mae_test, r2_test = evaluate_model(y_test, y_test_pred)\n",
    "\n",
    "    model_list.append(list(models.keys())[i])\n",
    "    r2_list.append((r2_train, r2_test))\n",
    "    print(list(models.keys())[i])\n",
    "    print(\"Model performance for Training set\")\n",
    "    print(\"- Mean Absolute Error : {:.4f}\".format(mae_train))\n",
    "    print(\"- R2 Score : {:.4f}\\n\".format(r2_train))\n",
    "    print(\"-\"*20)\n",
    "    print(\"Model performance for Test set\")\n",
    "    print(\"- Mean Absolute Error : {:.4f}\".format(mae_test))\n",
    "    print(\"- R2 Score : {:.4f}\\n\".format(r2_test))\n",
    "    print(\"-\"*20)"
   ]
  },
  {
   "cell_type": "markdown",
   "metadata": {},
   "source": [
    "# Results"
   ]
  },
  {
   "cell_type": "code",
   "execution_count": 38,
   "metadata": {},
   "outputs": [
    {
     "data": {
      "text/html": [
       "<div>\n",
       "<style scoped>\n",
       "    .dataframe tbody tr th:only-of-type {\n",
       "        vertical-align: middle;\n",
       "    }\n",
       "\n",
       "    .dataframe tbody tr th {\n",
       "        vertical-align: top;\n",
       "    }\n",
       "\n",
       "    .dataframe thead th {\n",
       "        text-align: right;\n",
       "    }\n",
       "</style>\n",
       "<table border=\"1\" class=\"dataframe\">\n",
       "  <thead>\n",
       "    <tr style=\"text-align: right;\">\n",
       "      <th></th>\n",
       "      <th>Model</th>\n",
       "      <th>R2_Score</th>\n",
       "    </tr>\n",
       "  </thead>\n",
       "  <tbody>\n",
       "    <tr>\n",
       "      <th>5</th>\n",
       "      <td>Decision Tree Regressor</td>\n",
       "      <td>(0.9996534669718089, 0.7656761119494498)</td>\n",
       "    </tr>\n",
       "    <tr>\n",
       "      <th>10</th>\n",
       "      <td>XGBoost Regressor</td>\n",
       "      <td>(0.9954995512962341, 0.8277965784072876)</td>\n",
       "    </tr>\n",
       "    <tr>\n",
       "      <th>7</th>\n",
       "      <td>Random Forest Regressor</td>\n",
       "      <td>(0.976315394800258, 0.8528041077089902)</td>\n",
       "    </tr>\n",
       "    <tr>\n",
       "      <th>8</th>\n",
       "      <td>Gradient Boosting Regressor</td>\n",
       "      <td>(0.9050396644022572, 0.8722288225190544)</td>\n",
       "    </tr>\n",
       "    <tr>\n",
       "      <th>2</th>\n",
       "      <td>Ridge</td>\n",
       "      <td>(0.8743042615212908, 0.8805931485028738)</td>\n",
       "    </tr>\n",
       "    <tr>\n",
       "      <th>0</th>\n",
       "      <td>Linear Regression</td>\n",
       "      <td>(0.8742639739869204, 0.8800954640546355)</td>\n",
       "    </tr>\n",
       "    <tr>\n",
       "      <th>4</th>\n",
       "      <td>KNeighbors Regressor</td>\n",
       "      <td>(0.8550176780012468, 0.7836806685669011)</td>\n",
       "    </tr>\n",
       "    <tr>\n",
       "      <th>9</th>\n",
       "      <td>AdaBoost Regressor</td>\n",
       "      <td>(0.8459247413762656, 0.8499256463133502)</td>\n",
       "    </tr>\n",
       "    <tr>\n",
       "      <th>6</th>\n",
       "      <td>Support Vector Regressor</td>\n",
       "      <td>(0.8081281585902299, 0.7286001513223704)</td>\n",
       "    </tr>\n",
       "    <tr>\n",
       "      <th>1</th>\n",
       "      <td>Lasso</td>\n",
       "      <td>(0.8071462015863458, 0.8253197323627853)</td>\n",
       "    </tr>\n",
       "    <tr>\n",
       "      <th>3</th>\n",
       "      <td>Naive Bayes</td>\n",
       "      <td>(-0.7411150023150832, -0.786503897453094)</td>\n",
       "    </tr>\n",
       "  </tbody>\n",
       "</table>\n",
       "</div>"
      ],
      "text/plain": [
       "                          Model                                   R2_Score\n",
       "5       Decision Tree Regressor   (0.9996534669718089, 0.7656761119494498)\n",
       "10            XGBoost Regressor   (0.9954995512962341, 0.8277965784072876)\n",
       "7       Random Forest Regressor    (0.976315394800258, 0.8528041077089902)\n",
       "8   Gradient Boosting Regressor   (0.9050396644022572, 0.8722288225190544)\n",
       "2                         Ridge   (0.8743042615212908, 0.8805931485028738)\n",
       "0             Linear Regression   (0.8742639739869204, 0.8800954640546355)\n",
       "4          KNeighbors Regressor   (0.8550176780012468, 0.7836806685669011)\n",
       "9            AdaBoost Regressor   (0.8459247413762656, 0.8499256463133502)\n",
       "6      Support Vector Regressor   (0.8081281585902299, 0.7286001513223704)\n",
       "1                         Lasso   (0.8071462015863458, 0.8253197323627853)\n",
       "3                   Naive Bayes  (-0.7411150023150832, -0.786503897453094)"
      ]
     },
     "execution_count": 38,
     "metadata": {},
     "output_type": "execute_result"
    }
   ],
   "source": [
    "pd.DataFrame(list(zip(models, r2_list)),columns=['Model', 'R2_Score']).sort_values(by =['R2_Score'],ascending=False)"
   ]
  },
  {
   "cell_type": "code",
   "execution_count": 45,
   "metadata": {},
   "outputs": [
    {
     "data": {
      "text/plain": [
       "[(0.8742639739869204, 0.8800954640546355),\n",
       " (0.8071462015863458, 0.8253197323627853),\n",
       " (0.8743042615212908, 0.8805931485028738),\n",
       " (-0.7411150023150832, -0.786503897453094),\n",
       " (0.8550176780012468, 0.7836806685669011),\n",
       " (0.9996534669718089, 0.7656761119494498),\n",
       " (0.8081281585902299, 0.7286001513223704),\n",
       " (0.976315394800258, 0.8528041077089902),\n",
       " (0.9050396644022572, 0.8722288225190544),\n",
       " (0.8459247413762656, 0.8499256463133502),\n",
       " (0.9954995512962341, 0.8277965784072876)]"
      ]
     },
     "execution_count": 45,
     "metadata": {},
     "output_type": "execute_result"
    }
   ],
   "source": [
    "r2_list"
   ]
  },
  {
   "cell_type": "code",
   "execution_count": null,
   "metadata": {},
   "outputs": [],
   "source": []
  },
  {
   "cell_type": "code",
   "execution_count": null,
   "metadata": {},
   "outputs": [],
   "source": []
  }
 ],
 "metadata": {
  "kernelspec": {
   "display_name": "venv",
   "language": "python",
   "name": "python3"
  },
  "language_info": {
   "codemirror_mode": {
    "name": "ipython",
    "version": 3
   },
   "file_extension": ".py",
   "mimetype": "text/x-python",
   "name": "python",
   "nbconvert_exporter": "python",
   "pygments_lexer": "ipython3",
   "version": "3.12.4"
  }
 },
 "nbformat": 4,
 "nbformat_minor": 2
}
